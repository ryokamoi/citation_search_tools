{
 "cells": [
  {
   "cell_type": "code",
   "execution_count": 1,
   "metadata": {},
   "outputs": [],
   "source": [
    "import semanticscholar as sch"
   ]
  },
  {
   "cell_type": "code",
   "execution_count": 17,
   "metadata": {},
   "outputs": [],
   "source": [
    "paper1 = sch.paper('f35de4f9b1a7c4d3fa96a0d2ab1bf8937671f6b6')[\"citations\"]\n",
    "paper2 = sch.paper('f302e136c41db5de1d624412f68c9174cf7ae8be')[\"citations\"]"
   ]
  },
  {
   "cell_type": "code",
   "execution_count": 18,
   "metadata": {},
   "outputs": [],
   "source": [
    "title_list = []\n",
    "for p in paper1:\n",
    "    title_list.append(p[\"title\"])"
   ]
  },
  {
   "cell_type": "code",
   "execution_count": 23,
   "metadata": {},
   "outputs": [
    {
     "name": "stdout",
     "output_type": "stream",
     "text": [
      "Learning Pairwise Interactions with Bayesian Neural Networks\n",
      "Opportunities and obstacles for deep learning in biology and medicine\n",
      "Deliberative Explanations: visualizing network insecurities\n",
      "Uncertainty Propagation in Deep Neural Network Using Active Subspace\n",
      "Building Bayesian Neural Networks with Blocks: On Structure, Interpretability and Uncertainty\n",
      "Understanding Uncertainty in Bayesian Neural Networks\n",
      "What Clinicians Want: Contextualizing Explainable Machine Learning for Clinical End Use\n",
      "CXPlain: Causal Explanations for Model Interpretation under Uncertainty\n",
      "Visualizing Uncertainty and Saliency Maps of Deep Convolutional Neural Networks for Medical Imaging Applications\n",
      "Attribution-Based Confidence Metric For Deep Neural Networks\n"
     ]
    }
   ],
   "source": [
    "results = []\n",
    "for p in paper2:\n",
    "    if p[\"title\"] in title_list:\n",
    "        results.append(p[\"title\"])\n",
    "        print(results[-1])"
   ]
  },
  {
   "cell_type": "code",
   "execution_count": null,
   "metadata": {},
   "outputs": [],
   "source": []
  }
 ],
 "metadata": {
  "kernelspec": {
   "display_name": "Python 3",
   "language": "python",
   "name": "python3"
  },
  "language_info": {
   "codemirror_mode": {
    "name": "ipython",
    "version": 3
   },
   "file_extension": ".py",
   "mimetype": "text/x-python",
   "name": "python",
   "nbconvert_exporter": "python",
   "pygments_lexer": "ipython3",
   "version": "3.7.3"
  }
 },
 "nbformat": 4,
 "nbformat_minor": 4
}
