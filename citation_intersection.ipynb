{
 "cells": [
  {
   "cell_type": "code",
   "execution_count": 1,
   "metadata": {},
   "outputs": [],
   "source": [
    "import semanticscholar as sch"
   ]
  },
  {
   "cell_type": "code",
   "execution_count": 2,
   "metadata": {},
   "outputs": [],
   "source": [
    "paper_lists = [\n",
    "    'f35de4f9b1a7c4d3fa96a0d2ab1bf8937671f6b6',\n",
    "    '204e3073870fae3d05bcbc2f6a8e263d9b72e776',\n",
    "    '54e325aee6b2d476bbbb88615ac15e251c6e8214',\n",
    "]"
   ]
  },
  {
   "cell_type": "code",
   "execution_count": 3,
   "metadata": {},
   "outputs": [],
   "source": [
    "papers_sch = []\n",
    "for pid in paper_lists:\n",
    "    papers_sch.append(sch.paper(pid))"
   ]
  },
  {
   "cell_type": "code",
   "execution_count": 4,
   "metadata": {},
   "outputs": [
    {
     "name": "stdout",
     "output_type": "stream",
     "text": [
      "Dropout as a Bayesian Approximation: Representing Model Uncertainty in Deep Learning\n",
      "Attention is All you Need\n",
      "Generative Adversarial Nets\n"
     ]
    }
   ],
   "source": [
    "for p in papers_sch:\n",
    "    print(p[\"title\"])"
   ]
  },
  {
   "cell_type": "code",
   "execution_count": 5,
   "metadata": {},
   "outputs": [],
   "source": [
    "citations_lists = []\n",
    "\n",
    "for p in papers_sch:\n",
    "    citations_lists.append(p[\"citations\"])"
   ]
  },
  {
   "cell_type": "code",
   "execution_count": 6,
   "metadata": {},
   "outputs": [
    {
     "name": "stdout",
     "output_type": "stream",
     "text": [
      "9\n"
     ]
    }
   ],
   "source": [
    "prod_set = set()\n",
    "for i, c_list in enumerate(citations_lists):\n",
    "    tmp_set = set()\n",
    "    for p in c_list:\n",
    "        tmp_set.add(p[\"paperId\"])\n",
    "    \n",
    "    if i == 0:\n",
    "        prod_set = tmp_set\n",
    "    else:\n",
    "        prod_set = prod_set & tmp_set\n",
    "\n",
    "print(len(prod_set))"
   ]
  },
  {
   "cell_type": "code",
   "execution_count": 7,
   "metadata": {},
   "outputs": [
    {
     "name": "stdout",
     "output_type": "stream",
     "text": [
      "   1 /    9\n",
      "   2 /    9\n",
      "   3 /    9\n",
      "   4 /    9\n",
      "   5 /    9\n",
      "   6 /    9\n",
      "   7 /    9\n",
      "   8 /    9\n",
      "   9 /    9\n"
     ]
    }
   ],
   "source": [
    "results = []\n",
    "for i, p in enumerate(prod_set):\n",
    "    print(\"{:4d} / {:4d}\".format(i+1, len(prod_set)))\n",
    "    p_sch = sch.paper(p)\n",
    "    results.append([len(p_sch[\"citations\"]), p_sch[\"title\"]])"
   ]
  },
  {
   "cell_type": "code",
   "execution_count": 8,
   "metadata": {},
   "outputs": [
    {
     "name": "stdout",
     "output_type": "stream",
     "text": [
      "  88 An Introduction to Deep Reinforcement Learning\n",
      "  31 Generative Ensembles for Robust Anomaly Detection\n",
      "  28 WAIC, but Why? Generative Ensembles for Robust Anomaly Detection\n",
      "  18 A Tutorial on Deep Latent Variable Models of Natural Language\n",
      "  13 Attending to Discriminative Certainty for Domain Adaptation\n",
      "   4 Demystifying Dropout\n",
      "   3 Adversarial Examples in Modern Machine Learning: A Review\n",
      "   2 Uncertainty estimation in deep learning with application to spoken language assessment\n",
      "   0 Universal Adversarial Perturbations: A Survey\n"
     ]
    }
   ],
   "source": [
    "results = sorted(results)\n",
    "for c, title in results[::-1]:\n",
    "    print(\"{:4d} {}\".format(c, title))"
   ]
  },
  {
   "cell_type": "code",
   "execution_count": null,
   "metadata": {},
   "outputs": [],
   "source": []
  }
 ],
 "metadata": {
  "kernelspec": {
   "display_name": "Python 3",
   "language": "python",
   "name": "python3"
  },
  "language_info": {
   "codemirror_mode": {
    "name": "ipython",
    "version": 3
   },
   "file_extension": ".py",
   "mimetype": "text/x-python",
   "name": "python",
   "nbconvert_exporter": "python",
   "pygments_lexer": "ipython3",
   "version": "3.7.3"
  }
 },
 "nbformat": 4,
 "nbformat_minor": 4
}
